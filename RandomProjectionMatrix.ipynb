{
  "nbformat": 4,
  "nbformat_minor": 0,
  "metadata": {
    "colab": {
      "name": "Projection.ipynb",
      "provenance": [],
      "collapsed_sections": [],
      "authorship_tag": "ABX9TyOmHZZGMZBlpO0HqA/rY2aV",
      "include_colab_link": true
    },
    "kernelspec": {
      "name": "python3",
      "display_name": "Python 3"
    }
  },
  "cells": [
    {
      "cell_type": "markdown",
      "metadata": {
        "id": "view-in-github",
        "colab_type": "text"
      },
      "source": [
        "<a href=\"https://colab.research.google.com/github/afrojaakter/Pattern-Recognition/blob/main/RandomProjectionMatrix.ipynb\" target=\"_parent\"><img src=\"https://colab.research.google.com/assets/colab-badge.svg\" alt=\"Open In Colab\"/></a>"
      ]
    },
    {
      "cell_type": "markdown",
      "metadata": {
        "id": "jUMi2_puvIem"
      },
      "source": [
        "1. Generate an n by m matrix, with a prescribed column rank, r, that is less than m. For example,\r\n",
        "\tgenerate a 10 by 5 matrix with column rank 3.  \r\n",
        "2. Use a random projection onto a n by r matrix and a n by r + 1 matrix. You can use either a Gaussian\r\n",
        "\tprojection or a random matrix with +1 and -1 entries chosen independently.\r\n",
        "3. Compute the rank of the projection."
      ]
    },
    {
      "cell_type": "code",
      "metadata": {
        "colab": {
          "base_uri": "https://localhost:8080/"
        },
        "id": "CfaOduD7vEAP",
        "outputId": "2d327f93-c284-4567-a2e9-97ca942d2281"
      },
      "source": [
        "import numpy as np\r\n",
        "from numpy.linalg import matrix_rank\r\n",
        "r = 50\r\n",
        "n = 100; m = 90\r\n",
        "from sklearn.decomposition import NMF\r\n",
        "model = NMF(n_components=r, init='random', random_state=0)\r\n",
        "U = model.fit_transform(np.random.randint(1, 50, size=(n, m))) # a matrix with rank r, shape = (n, r)\r\n",
        "V = model.components_       # a matrix with rank r, shape = (r, m)\r\n",
        "M = np.around(U) @ np.around(V) #a matrix with rank r, shape = (n, m)\r\n",
        "print('Shape of Matirx, M: {}, \\nRank of M: {}'.format(M.shape, matrix_rank(M)))\r\n",
        "#print('M = \\n', M)"
      ],
      "execution_count": 53,
      "outputs": [
        {
          "output_type": "stream",
          "text": [
            "Shape of Matirx, M: (100, 90), \n",
            "Rank of M: 50\n"
          ],
          "name": "stdout"
        }
      ]
    },
    {
      "cell_type": "code",
      "metadata": {
        "colab": {
          "base_uri": "https://localhost:8080/"
        },
        "id": "0REJ0xeZI8Lc",
        "outputId": "03c3fb13-8283-4ee0-c507-853884ed0390"
      },
      "source": [
        "A = 2*np.random.randint(2, size = (n,r)) - np.ones((n,r)) #matrix of size n by r with random entries 1 and -1\r\n",
        "print('Rank of matrix A = {} \\n\\nSize of A = {}'.format(matrix_rank(A), A.shape))"
      ],
      "execution_count": 94,
      "outputs": [
        {
          "output_type": "stream",
          "text": [
            "Rank of matrix A = 50 \n",
            "\n",
            "Size of A = (100, 50)\n"
          ],
          "name": "stdout"
        }
      ]
    },
    {
      "cell_type": "code",
      "metadata": {
        "colab": {
          "base_uri": "https://localhost:8080/"
        },
        "id": "93fdIRFKopOy",
        "outputId": "68c188d6-f586-4f0c-f50f-4621f59fa7f0"
      },
      "source": [
        "projection = A.T@M\r\n",
        "print('Rank of matrix projection matrix = {}\\n\\nProjection matrix size= {}'\\\r\n",
        "      .format(matrix_rank(projction), projction.shape))"
      ],
      "execution_count": 73,
      "outputs": [
        {
          "output_type": "stream",
          "text": [
            "Rank of matrix projection matrix = 50\n",
            "\n",
            "Projection matrix size= (50, 90)\n"
          ],
          "name": "stdout"
        }
      ]
    },
    {
      "cell_type": "code",
      "metadata": {
        "colab": {
          "base_uri": "https://localhost:8080/"
        },
        "id": "s7wCv8moqL69",
        "outputId": "e6e6ec6b-09af-4417-e679-818796bf582a"
      },
      "source": [
        "A1 = 2*np.random.randint(2, size = (n,r+1)) - np.ones((n,r+1)) #matrix of size n by r+1 with random entries 1 and -1\r\n",
        "print('Rank of matrix A1 = {}\\n'.format(matrix_rank(A1)))\r\n",
        "projection1 = A1.T@M\r\n",
        "print('Rank of matrix projection matrix = {}\\n\\nProjection matrix size= {}'\\\r\n",
        "      .format(matrix_rank(projection1), projection1.shape))"
      ],
      "execution_count": 75,
      "outputs": [
        {
          "output_type": "stream",
          "text": [
            "Rank of matrix A1 = 51\n",
            "\n",
            "Rank of matrix projection matrix = 50\n",
            "\n",
            "Projection matrix size= (51, 90)\n"
          ],
          "name": "stdout"
        }
      ]
    },
    {
      "cell_type": "code",
      "metadata": {
        "id": "yz2K29RFJD9c"
      },
      "source": [
        "#Random Gaussian Projection\r\n",
        "from sklearn.random_projection import GaussianRandomProjection\r\n",
        "rng = np.random.RandomState(4)\r\n",
        "model1 = NMF(n_components=r, init='random', random_state=0)\r\n",
        "U1 = model1.fit_transform(np.random.randint(1, 50, size=(2000, 1500))) # a matrix with rank r, shape = (n, r)\r\n",
        "V1 = model1.components_       # a matrix with rank r, shape = (r, m)\r\n",
        "X = np.around(U1) @ np.around(V1) #a matrix with rank r, shape = (n, m)"
      ],
      "execution_count": 86,
      "outputs": []
    },
    {
      "cell_type": "code",
      "metadata": {
        "colab": {
          "base_uri": "https://localhost:8080/"
        },
        "id": "ADa7pDgAuzLF",
        "outputId": "2d8e455a-be43-4dd0-fa2d-6c06126dad8e"
      },
      "source": [
        "transformer = GaussianRandomProjection(random_state= 4, n_components = r,eps = 0.9)\r\n",
        "X_new = transformer.fit_transform(X)\r\n",
        "print('Rank of matrix X = {}\\nRank of the porjection matrix = {}\\nShape of porjection matrix = {}'\\\r\n",
        "      .format(matrix_rank(X), matrix_rank(X_new), X_new.shape))"
      ],
      "execution_count": 92,
      "outputs": [
        {
          "output_type": "stream",
          "text": [
            "Rank of matrix X = 50\n",
            "Rank of the porjection matrix = 50\n",
            "Shape of porjection matrix = (2000, 50)\n"
          ],
          "name": "stdout"
        }
      ]
    },
    {
      "cell_type": "code",
      "metadata": {
        "colab": {
          "base_uri": "https://localhost:8080/"
        },
        "id": "zJsEkOmmvK-M",
        "outputId": "434678c9-60f3-4ba8-8687-9fb43f701e70"
      },
      "source": [
        "transformer = GaussianRandomProjection(random_state = 4, n_components = r+1,eps = 0.9)\r\n",
        "X_new1 = transformer.fit_transform(X)\r\n",
        "print('Rank of matrix X = {}\\nRank of the porjection matrix = {}\\nShape of porjection matrix = {}'\\\r\n",
        "      .format(matrix_rank(X), matrix_rank(X_new1), X_new1.shape))"
      ],
      "execution_count": 93,
      "outputs": [
        {
          "output_type": "stream",
          "text": [
            "Rank of matrix X = 50\n",
            "Rank of the porjection matrix = 50\n",
            "Shape of porjection matrix = (2000, 51)\n"
          ],
          "name": "stdout"
        }
      ]
    }
  ]
}