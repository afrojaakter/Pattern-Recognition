{
  "nbformat": 4,
  "nbformat_minor": 0,
  "metadata": {
    "colab": {
      "name": "Sparcity_Compression_Underdetermined.ipynb",
      "provenance": [],
      "authorship_tag": "ABX9TyN+RDfh/48YDmA7GKa4Ykb7",
      "include_colab_link": true
    },
    "kernelspec": {
      "name": "python3",
      "display_name": "Python 3"
    }
  },
  "cells": [
    {
      "cell_type": "markdown",
      "metadata": {
        "id": "view-in-github",
        "colab_type": "text"
      },
      "source": [
        "<a href=\"https://colab.research.google.com/github/afrojaakter/Pattern-Recognition/blob/main/Sparcity_Compression_Underdetermined.ipynb\" target=\"_parent\"><img src=\"https://colab.research.google.com/assets/colab-badge.svg\" alt=\"Open In Colab\"/></a>"
      ]
    },
    {
      "cell_type": "code",
      "metadata": {
        "id": "GX7aKZ5gaL6H"
      },
      "source": [
        "import numpy as np\r\n",
        "import matplotlib.pyplot as plt\r\n",
        "import os\r\n",
        "from scipy.optimize import minimize\r\n",
        "plt.rcParams['figure.figsize'] = [12, 18]\r\n",
        "plt.rcParams.update({'font.size': 18})\r\n",
        "\r\n",
        "# Solve y = Theta * s for \"s\"\r\n",
        "n = 1000 # dimension of s\r\n",
        "p = 200  # number of measurements, dim(y)\r\n",
        "Theta = np.random.randn(p,n)\r\n",
        "y = np.random.randn(p)\r\n",
        "\r\n",
        "# L1 Minimum norm solution s_L1\r\n",
        "def L1_norm(x):\r\n",
        "    return np.linalg.norm(x,ord=1)\r\n",
        "\r\n",
        "constr = ({'type': 'eq', 'fun': lambda x:  Theta @ x - y})\r\n",
        "x0 = np.linalg.pinv(Theta) @ y # initialize with L2 solution\r\n",
        "res = minimize(L1_norm, x0, method='SLSQP',constraints=constr)\r\n",
        "s_L1 = res.x"
      ],
      "execution_count": 1,
      "outputs": []
    },
    {
      "cell_type": "code",
      "metadata": {
        "id": "tfJvGeA1aPx-"
      },
      "source": [
        "# L2 Minimum norm solution s_L2\r\n",
        "s_L2 = np.linalg.pinv(Theta) @ y"
      ],
      "execution_count": 2,
      "outputs": []
    },
    {
      "cell_type": "code",
      "metadata": {
        "colab": {
          "base_uri": "https://localhost:8080/",
          "height": 269
        },
        "id": "xUbZK_wWaT9h",
        "outputId": "1816ebda-4019-4659-f626-2e95dd56237e"
      },
      "source": [
        "fig,axs = plt.subplots(2,2)\r\n",
        "axs = axs.reshape(-1)\r\n",
        "axs[0].plot(s_L1,color='b',LineWidth=1.5)\r\n",
        "axs[0].set_ylim(-0.2,0.2)\r\n",
        "axs[1].plot(s_L2,color='r',LineWidth=1.5)\r\n",
        "axs[1].set_ylim(-0.2,0.2)\r\n",
        "axs[2].hist(s_L1,bins=np.arange(-0.105,0.105,0.01),rwidth=0.9)\r\n",
        "axs[3].hist(s_L2,bins=np.arange(-0.105,0.105,0.01),rwidth=0.9)\r\n",
        "\r\n",
        "plt.show()"
      ],
      "execution_count": 3,
      "outputs": [
        {
          "output_type": "display_data",
          "data": {
            "image/png": "[encoded data removed]",
            "text/plain": [
              "<Figure size 432x288 with 4 Axes>"
            ]
          },
          "metadata": {
            "tags": [],
            "needs_background": "light"
          }
        }
      ]
    },
    {
      "cell_type": "markdown",
      "metadata": {
        "id": "K-zUeggrcmEb"
      },
      "source": [
        "First column is for L1 and the second column is for L2 regularizer"
      ]
    }
  ]
}