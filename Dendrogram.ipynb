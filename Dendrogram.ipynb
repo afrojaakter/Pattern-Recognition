{
  "nbformat": 4,
  "nbformat_minor": 0,
  "metadata": {
    "colab": {
      "name": "Dendrogram.ipynb",
      "provenance": [],
      "authorship_tag": "ABX9TyP53O63sqg+XvbolcYUtGek",
      "include_colab_link": true
    },
    "kernelspec": {
      "name": "python3",
      "display_name": "Python 3"
    },
    "language_info": {
      "name": "python"
    }
  },
  "cells": [
    {
      "cell_type": "markdown",
      "metadata": {
        "id": "view-in-github",
        "colab_type": "text"
      },
      "source": [
        "<a href=\"https://colab.research.google.com/github/afrojaakter/Pattern-Recognition/blob/main/Dendrogram.ipynb\" target=\"_parent\"><img src=\"https://colab.research.google.com/assets/colab-badge.svg\" alt=\"Open In Colab\"/></a>"
      ]
    },
    {
      "cell_type": "code",
      "metadata": {
        "id": "JRsXZUfezfEN"
      },
      "source": [
        "import numpy as np\n",
        "import matplotlib.pyplot as plt\n",
        "from matplotlib import rcParams\n",
        "from scipy.cluster import hierarchy\n",
        "from scipy.spatial.distance import pdist\n",
        "\n",
        "rcParams.update({'font.size': 18})\n",
        "plt.rcParams['figure.figsize'] = [12, 12]"
      ],
      "execution_count": 1,
      "outputs": []
    },
    {
      "cell_type": "code",
      "metadata": {
        "colab": {
          "base_uri": "https://localhost:8080/",
          "height": 265
        },
        "id": "BjBrQZbUzpYs",
        "outputId": "605c02d1-636d-4852-c7b1-0b5f81e03caa"
      },
      "source": [
        "# Training and testing set sizes\n",
        "n1 = 100 # Train\n",
        "n2 = 50  # Test\n",
        "\n",
        "# Random ellipse 1 centered at (0,0)\n",
        "x = np.random.randn(n1+n2)\n",
        "y = 0.5*np.random.randn(n1+n2)\n",
        "\n",
        "# Random ellipse 2 centered at (1,-2)\n",
        "x2 = np.random.randn(n1+n2) + 1\n",
        "y2 = 0.2*np.random.randn(n1+n2) - 2\n",
        "\n",
        "# Rotate ellipse 2 by theta\n",
        "theta = np.pi/4\n",
        "A = np.zeros((2,2))\n",
        "A[0,0] = np.cos(theta)\n",
        "A[0,1] = -np.sin(theta)\n",
        "A[1,0] = np.sin(theta)\n",
        "A[1,1] = np.cos(theta)\n",
        "\n",
        "x3 = A[0,0]*x2 + A[0,1]*y2\n",
        "y3 = A[1,0]*x2 + A[1,1]*y2\n",
        "\n",
        "plt.figure()\n",
        "plt.plot(x[:n1],y[:n1],'r.')\n",
        "plt.plot(x3[:n1],y3[:n1],'b.')\n",
        "plt.show()"
      ],
      "execution_count": 4,
      "outputs": [
        {
          "output_type": "display_data",
          "data": {
            "image/png": "[encoded data removed]",
            "text/plain": [
              "<Figure size 432x288 with 1 Axes>"
            ]
          },
          "metadata": {
            "tags": [],
            "needs_background": "light"
          }
        }
      ]
    },
    {
      "cell_type": "code",
      "metadata": {
        "id": "3TGtUlB6z6Bb"
      },
      "source": [
        "# Training set: first 200 of 240 points\n",
        "X1 = np.column_stack((x3[:n1],y3[:n1]))\n",
        "X2 = np.column_stack((x[:n1],y[:n1]))\n",
        "\n",
        "Y = np.concatenate((X1,X2))\n",
        "Z = np.column_stack((np.ones(n1),2*np.ones(n1)))\n",
        "\n",
        "# Test set: remaining 40 points\n",
        "x1test = np.column_stack((x3[n1:],y3[n1:]))\n",
        "x2test = np.column_stack((x[n1:],y[n1:]))"
      ],
      "execution_count": 5,
      "outputs": []
    },
    {
      "cell_type": "code",
      "metadata": {
        "colab": {
          "base_uri": "https://localhost:8080/",
          "height": 248
        },
        "id": "SVXZjA6-z8cy",
        "outputId": "7a51ce3c-5e00-4d31-f842-990fff54f79b"
      },
      "source": [
        "## Dendrograms\n",
        "\n",
        "Y3 = np.concatenate((X1[:50,:],X2[:50,:]))\n",
        "\n",
        "Y2 = pdist(Y3,metric='euclidean')\n",
        "Z = hierarchy.linkage(Y2,method='average')\n",
        "thresh = 0.85*np.max(Z[:,2])\n",
        "\n",
        "plt.figure()\n",
        "dn = hierarchy.dendrogram(Z,p=100,color_threshold=thresh)\n",
        "plt.axis('off')\n",
        "\n",
        "plt.show()"
      ],
      "execution_count": 6,
      "outputs": [
        {
          "output_type": "display_data",
          "data": {
            "image/png": "[encoded data removed]",
            "text/plain": [
              "<Figure size 432x288 with 1 Axes>"
            ]
          },
          "metadata": {
            "tags": [],
            "needs_background": "light"
          }
        }
      ]
    },
    {
      "cell_type": "code",
      "metadata": {
        "colab": {
          "base_uri": "https://localhost:8080/",
          "height": 265
        },
        "id": "3Tw6rUSFz-_y",
        "outputId": "85a17466-b589-4af6-e666-315f81700d0e"
      },
      "source": [
        "plt.bar(range(100),dn['leaves'])\n",
        "plt.plot(np.array([0, 100]),np.array([50, 50]),'r:',LineWidth=2)\n",
        "plt.plot(np.array([50.5, 50.5]),np.array([0, 100]),'r:',LineWidth=2)\n",
        "\n",
        "plt.show()"
      ],
      "execution_count": 7,
      "outputs": [
        {
          "output_type": "display_data",
          "data": {
            "image/png": "[encoded data removed]",
            "text/plain": [
              "<Figure size 432x288 with 1 Axes>"
            ]
          },
          "metadata": {
            "tags": [],
            "needs_background": "light"
          }
        }
      ]
    },
    {
      "cell_type": "code",
      "metadata": {
        "colab": {
          "base_uri": "https://localhost:8080/",
          "height": 248
        },
        "id": "oOc50B2-0Bq6",
        "outputId": "3e342217-c775-4b38-af0c-997e05d7e516"
      },
      "source": [
        "thresh = 0.25*np.max(Z[:,2])\n",
        "\n",
        "plt.figure()\n",
        "dn = hierarchy.dendrogram(Z,p=100,color_threshold=thresh)\n",
        "plt.axis('off')\n",
        "plt.show()"
      ],
      "execution_count": 8,
      "outputs": [
        {
          "output_type": "display_data",
          "data": {
            "image/png": "[encoded data removed]",
            "text/plain": [
              "<Figure size 432x288 with 1 Axes>"
            ]
          },
          "metadata": {
            "tags": [],
            "needs_background": "light"
          }
        }
      ]
    }
  ]
}